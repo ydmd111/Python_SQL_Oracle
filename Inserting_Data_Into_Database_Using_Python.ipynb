{
 "cells": [
  {
   "cell_type": "markdown",
   "id": "48fd57c5",
   "metadata": {},
   "source": [
    "## Importing the necessary libraries:"
   ]
  },
  {
   "cell_type": "code",
   "execution_count": 1,
   "id": "04719f6d",
   "metadata": {},
   "outputs": [],
   "source": [
    "import cx_Oracle\n",
    "import tkinter\n",
    "import oracledbconnect as dbconnect"
   ]
  },
  {
   "cell_type": "markdown",
   "id": "846fca43",
   "metadata": {},
   "source": [
    "## To Connect jupyter notebook with Database:"
   ]
  },
  {
   "cell_type": "code",
   "execution_count": 2,
   "id": "281bdebc",
   "metadata": {},
   "outputs": [],
   "source": [
    "connect=cx_Oracle.connect(dbconnect.user,dbconnect.password,dbconnect.dns)"
   ]
  },
  {
   "cell_type": "markdown",
   "id": "41d74740",
   "metadata": {},
   "source": [
    "## Now let's make cursor:"
   ]
  },
  {
   "cell_type": "code",
   "execution_count": 3,
   "id": "043d995f",
   "metadata": {},
   "outputs": [],
   "source": [
    "cur=connect.cursor()"
   ]
  },
  {
   "cell_type": "markdown",
   "id": "283bb235",
   "metadata": {},
   "source": [
    "## To create window:"
   ]
  },
  {
   "cell_type": "code",
   "execution_count": 4,
   "id": "32a38b81",
   "metadata": {},
   "outputs": [],
   "source": [
    "window=tkinter.Tk()"
   ]
  },
  {
   "cell_type": "markdown",
   "id": "dc9f47b3",
   "metadata": {},
   "source": [
    "## For the window measurments:"
   ]
  },
  {
   "cell_type": "code",
   "execution_count": 5,
   "id": "a34d13bd",
   "metadata": {},
   "outputs": [
    {
     "data": {
      "text/plain": [
       "''"
      ]
     },
     "execution_count": 5,
     "metadata": {},
     "output_type": "execute_result"
    }
   ],
   "source": [
    "window.geometry('800x500')"
   ]
  },
  {
   "cell_type": "markdown",
   "id": "b9c04a8e",
   "metadata": {},
   "source": [
    "## Now to write 'Employee ID' label:"
   ]
  },
  {
   "cell_type": "code",
   "execution_count": 6,
   "id": "28a88412",
   "metadata": {},
   "outputs": [],
   "source": [
    "label1=tkinter.Label(window,text='Employee ID')"
   ]
  },
  {
   "cell_type": "markdown",
   "id": "04bef6d6",
   "metadata": {},
   "source": [
    "## Now to make the Employee ID's Text:"
   ]
  },
  {
   "cell_type": "code",
   "execution_count": 7,
   "id": "e467690e",
   "metadata": {},
   "outputs": [],
   "source": [
    "text1=tkinter.Entry(window,width=10)"
   ]
  },
  {
   "cell_type": "markdown",
   "id": "24cdf200",
   "metadata": {},
   "source": [
    "## Also we will make another label named 'Employee Name':"
   ]
  },
  {
   "cell_type": "code",
   "execution_count": 8,
   "id": "0540064b",
   "metadata": {},
   "outputs": [],
   "source": [
    "label2=tkinter.Label(window,text='Employee Name')"
   ]
  },
  {
   "cell_type": "markdown",
   "id": "63a47b53",
   "metadata": {},
   "source": [
    "## To make the Employee Name's text:"
   ]
  },
  {
   "cell_type": "code",
   "execution_count": 9,
   "id": "7465b53c",
   "metadata": {},
   "outputs": [],
   "source": [
    "text2=tkinter.Entry(window,width=50)"
   ]
  },
  {
   "cell_type": "markdown",
   "id": "6ce324c0",
   "metadata": {},
   "source": [
    "## Now let's make title to the window:"
   ]
  },
  {
   "cell_type": "code",
   "execution_count": 10,
   "id": "78fcaa2a",
   "metadata": {},
   "outputs": [
    {
     "data": {
      "text/plain": [
       "''"
      ]
     },
     "execution_count": 10,
     "metadata": {},
     "output_type": "execute_result"
    }
   ],
   "source": [
    "window.title('Employee_Info_Entry')"
   ]
  },
  {
   "cell_type": "markdown",
   "id": "e12f59df",
   "metadata": {},
   "source": [
    "## To make the Employee ID label's location:"
   ]
  },
  {
   "cell_type": "code",
   "execution_count": 11,
   "id": "ef0ad9b7",
   "metadata": {},
   "outputs": [],
   "source": [
    "label1.grid(row=0,column=0)"
   ]
  },
  {
   "cell_type": "markdown",
   "id": "827e035b",
   "metadata": {},
   "source": [
    "## Now let's locate the Employee ID's text:"
   ]
  },
  {
   "cell_type": "code",
   "execution_count": 12,
   "id": "7fee8be7",
   "metadata": {},
   "outputs": [],
   "source": [
    "text1.grid(row=0,column=1)"
   ]
  },
  {
   "cell_type": "markdown",
   "id": "f8a39192",
   "metadata": {},
   "source": [
    "## Now it's the time for the Employee Name's label:"
   ]
  },
  {
   "cell_type": "code",
   "execution_count": 13,
   "id": "f2e5d47d",
   "metadata": {},
   "outputs": [],
   "source": [
    "label2.grid(row=1,column=0)"
   ]
  },
  {
   "cell_type": "markdown",
   "id": "e220d50d",
   "metadata": {},
   "source": [
    "## And for the Employee name's text:"
   ]
  },
  {
   "cell_type": "code",
   "execution_count": 14,
   "id": "15eee1a8",
   "metadata": {},
   "outputs": [],
   "source": [
    "text2.grid(row=1,column=1)"
   ]
  },
  {
   "cell_type": "markdown",
   "id": "ae838720",
   "metadata": {},
   "source": [
    "## Now let's create function to insert the data which are written in both texts into the database:"
   ]
  },
  {
   "cell_type": "code",
   "execution_count": 15,
   "id": "5465f7cb",
   "metadata": {},
   "outputs": [],
   "source": [
    "def employee_insert():\n",
    "    try:\n",
    "        cur.execute('''insert into yassir(employee_id,employee_name) values (:id,:name)''',{'id':text1.get(),'name':text2.get()})\n",
    "    except cx_Oracle.DatabaseError:\n",
    "        label=tkinter.Label(window,text='Error During inserting the data')\n",
    "        label.grid(row=3,column=0)\n",
    "    else:\n",
    "        label=tkinter.Label(window,text='the data has been inserted successfully')\n",
    "        label.grid(row=3,column=0)\n",
    "        connect.commit()"
   ]
  },
  {
   "cell_type": "markdown",
   "id": "5e99485b",
   "metadata": {},
   "source": [
    "## It's the time to create button for submitting the data and insert it into the database:"
   ]
  },
  {
   "cell_type": "code",
   "execution_count": 16,
   "id": "591f358b",
   "metadata": {},
   "outputs": [],
   "source": [
    "bt=tkinter.Button(window,text='Submit',command=employee_insert)"
   ]
  },
  {
   "cell_type": "markdown",
   "id": "58c6b797",
   "metadata": {},
   "source": [
    "## To locate the Submit button:"
   ]
  },
  {
   "cell_type": "code",
   "execution_count": 17,
   "id": "579b3f59",
   "metadata": {},
   "outputs": [],
   "source": [
    "bt.grid(row=2,column=2)"
   ]
  },
  {
   "cell_type": "markdown",
   "id": "40cf14a5",
   "metadata": {},
   "source": [
    "## To execute the program and show the window:"
   ]
  },
  {
   "cell_type": "code",
   "execution_count": 18,
   "id": "9413fc7b",
   "metadata": {},
   "outputs": [],
   "source": [
    "window.mainloop()"
   ]
  }
 ],
 "metadata": {
  "kernelspec": {
   "display_name": "Python 3 (ipykernel)",
   "language": "python",
   "name": "python3"
  },
  "language_info": {
   "codemirror_mode": {
    "name": "ipython",
    "version": 3
   },
   "file_extension": ".py",
   "mimetype": "text/x-python",
   "name": "python",
   "nbconvert_exporter": "python",
   "pygments_lexer": "ipython3",
   "version": "3.9.13"
  }
 },
 "nbformat": 4,
 "nbformat_minor": 5
}
