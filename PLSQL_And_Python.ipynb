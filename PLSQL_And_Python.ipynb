{
 "cells": [
  {
   "cell_type": "markdown",
   "id": "4cff0963",
   "metadata": {},
   "source": [
    "## Importing the necessary libraries:"
   ]
  },
  {
   "cell_type": "code",
   "execution_count": 1,
   "id": "6dba04e1",
   "metadata": {},
   "outputs": [],
   "source": [
    "import cx_Oracle\n",
    "import oracledbconnect as dbconnect"
   ]
  },
  {
   "cell_type": "markdown",
   "id": "4ea55991",
   "metadata": {},
   "source": [
    "## Connecting user:"
   ]
  },
  {
   "cell_type": "code",
   "execution_count": 2,
   "id": "a3c5e13b",
   "metadata": {},
   "outputs": [],
   "source": [
    "connect=cx_Oracle.connect(dbconnect.user,dbconnect.password,dbconnect.dns)"
   ]
  },
  {
   "cell_type": "markdown",
   "id": "9f9966a3",
   "metadata": {},
   "source": [
    "## Creating cursor:"
   ]
  },
  {
   "cell_type": "code",
   "execution_count": 3,
   "id": "e522dcd7",
   "metadata": {},
   "outputs": [],
   "source": [
    "cur=connect.cursor()"
   ]
  },
  {
   "cell_type": "markdown",
   "id": "dde365d6",
   "metadata": {},
   "source": [
    "## To call PLSQL Procedure:"
   ]
  },
  {
   "cell_type": "code",
   "execution_count": 7,
   "id": "2935dce3",
   "metadata": {},
   "outputs": [
    {
     "name": "stdout",
     "output_type": "stream",
     "text": [
      "age count 6\n"
     ]
    }
   ],
   "source": [
    "agecount=cur.var(int)\n",
    "cur.callproc('yass',[34,agecount])\n",
    "print('age count',agecount.getvalue())"
   ]
  },
  {
   "cell_type": "markdown",
   "id": "2cd983d5",
   "metadata": {},
   "source": [
    "## To call PLSQL Function:"
   ]
  },
  {
   "cell_type": "code",
   "execution_count": 8,
   "id": "82a6674b",
   "metadata": {},
   "outputs": [
    {
     "name": "stdout",
     "output_type": "stream",
     "text": [
      "age count 6\n"
     ]
    }
   ],
   "source": [
    "agefunc=cur.callfunc('yass2',int,[34])\n",
    "print('age count',agefunc)"
   ]
  },
  {
   "cell_type": "markdown",
   "id": "fa53be21",
   "metadata": {},
   "source": [
    "## Using Anonymous PLSQL, first:"
   ]
  },
  {
   "cell_type": "code",
   "execution_count": 11,
   "id": "759cd7c7",
   "metadata": {},
   "outputs": [],
   "source": [
    "statement='''\n",
    "begin\n",
    "insert into yassir (id,empno,first_name,last_name,age,gender)\n",
    "values(14,114,'Amit','Marwaha',28,'M');\n",
    "update yassir\n",
    "set age=34 where id=1;\n",
    "commit;\n",
    "end;\n",
    "'''"
   ]
  },
  {
   "cell_type": "markdown",
   "id": "546d38d7",
   "metadata": {},
   "source": [
    "## Then we execute the variable:"
   ]
  },
  {
   "cell_type": "code",
   "execution_count": 12,
   "id": "2644d211",
   "metadata": {},
   "outputs": [],
   "source": [
    "cur.execute(statement)"
   ]
  },
  {
   "cell_type": "markdown",
   "id": "1723f735",
   "metadata": {},
   "source": [
    "## Now lets see the new inserted rows:"
   ]
  },
  {
   "cell_type": "code",
   "execution_count": 13,
   "id": "c286954c",
   "metadata": {},
   "outputs": [
    {
     "name": "stdout",
     "output_type": "stream",
     "text": [
      "[(12, 112, 'Sandeep', 'mann', 28, 'M'), (1, 101, 'Yassir', 'Daoud', 34, 'M'), (2, 102, 'Uday', 'Daoud', 39, 'M'), (3, 103, 'Usama', 'Daoud', 42, 'M'), (4, 104, 'Daoud', 'Mukhtar', 56, 'M'), (5, 105, 'Waddah', 'Almudhaffar', 34, 'M'), (6, 106, 'Nawar', 'Albadran', 34, 'M'), (7, 107, 'Haider', 'Ali', 37, 'M'), (8, 108, 'Wafa', 'Qahtan', 31, 'F'), (9, 109, 'Hussein', 'Naser', 39, 'M'), (10, 110, 'Nahid', 'Ali', 35, 'F'), (11, 111, 'akram', 'kamil', 22, 'M'), (13, 113, 'Akram', 'Kamil', 22, 'M'), (14, 114, 'Amit', 'Marwaha', 28, 'M')]\n"
     ]
    }
   ],
   "source": [
    "cur.execute('''select * from yassir''')\n",
    "rows=cur.fetchall()\n",
    "print(rows)"
   ]
  },
  {
   "cell_type": "markdown",
   "id": "05a8be27",
   "metadata": {},
   "source": [
    "## To handle the data integrity error:"
   ]
  },
  {
   "cell_type": "code",
   "execution_count": 16,
   "id": "dbb58630",
   "metadata": {},
   "outputs": [
    {
     "name": "stdout",
     "output_type": "stream",
     "text": [
      "Already exist\n"
     ]
    }
   ],
   "source": [
    "try:\n",
    "    cur.execute(\"insert into yassir(id,empno,first_name,last_name,age,gender) values(13, 113,'Sandeep', 'mann', 28, 'M')\")\n",
    "except cx_Oracle.IntegrityError:\n",
    "    print('Already exist')\n",
    "else:\n",
    "    print('New row added')"
   ]
  },
  {
   "cell_type": "markdown",
   "id": "193ee63b",
   "metadata": {},
   "source": [
    "## Let's try it again with new records,let's try it with existing row:"
   ]
  },
  {
   "cell_type": "code",
   "execution_count": 17,
   "id": "5411c6d5",
   "metadata": {},
   "outputs": [
    {
     "name": "stdout",
     "output_type": "stream",
     "text": [
      "New row added\n"
     ]
    }
   ],
   "source": [
    "try:\n",
    "    cur.execute(\"insert into yassir(id,empno,first_name,last_name,age,gender) values(15, 115,'Deepak', 'Singh', 36, 'M')\")\n",
    "except cx_Oracle.IntegrityError:\n",
    "    print('Already exist')\n",
    "else:\n",
    "    print('New row added')"
   ]
  },
  {
   "cell_type": "markdown",
   "id": "eeaf6430",
   "metadata": {},
   "source": [
    "## To commit the changes:"
   ]
  },
  {
   "cell_type": "code",
   "execution_count": 18,
   "id": "aa134e07",
   "metadata": {},
   "outputs": [],
   "source": [
    "connect.commit()"
   ]
  },
  {
   "cell_type": "markdown",
   "id": "13c97465",
   "metadata": {},
   "source": [
    "## To close the cursor:"
   ]
  },
  {
   "cell_type": "code",
   "execution_count": 19,
   "id": "e68272e0",
   "metadata": {},
   "outputs": [],
   "source": [
    "cur.close()"
   ]
  }
 ],
 "metadata": {
  "kernelspec": {
   "display_name": "Python 3 (ipykernel)",
   "language": "python",
   "name": "python3"
  },
  "language_info": {
   "codemirror_mode": {
    "name": "ipython",
    "version": 3
   },
   "file_extension": ".py",
   "mimetype": "text/x-python",
   "name": "python",
   "nbconvert_exporter": "python",
   "pygments_lexer": "ipython3",
   "version": "3.9.13"
  }
 },
 "nbformat": 4,
 "nbformat_minor": 5
}
