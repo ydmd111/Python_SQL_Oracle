{
 "cells": [
  {
   "cell_type": "markdown",
   "id": "a42b0fd6",
   "metadata": {},
   "source": [
    "## Importing the oracle library with txt file which contains the username,password and dns of the user:"
   ]
  },
  {
   "cell_type": "code",
   "execution_count": 1,
   "id": "14f0b5b5",
   "metadata": {},
   "outputs": [],
   "source": [
    "import cx_Oracle\n",
    "import oracledbconnect as dbconnect"
   ]
  },
  {
   "cell_type": "markdown",
   "id": "2d4bf7d2",
   "metadata": {},
   "source": [
    "## Now we connect jupyter to the user:"
   ]
  },
  {
   "cell_type": "code",
   "execution_count": 2,
   "id": "212c24ba",
   "metadata": {},
   "outputs": [],
   "source": [
    "connect=cx_Oracle.connect(dbconnect.user,dbconnect.password,dbconnect.dns)"
   ]
  },
  {
   "cell_type": "markdown",
   "id": "93de53d6",
   "metadata": {},
   "source": [
    "## Now we create the cursor:"
   ]
  },
  {
   "cell_type": "code",
   "execution_count": 3,
   "id": "ffa11530",
   "metadata": {},
   "outputs": [],
   "source": [
    "cur=connect.cursor()"
   ]
  },
  {
   "cell_type": "markdown",
   "id": "4303a760",
   "metadata": {},
   "source": [
    "## Now start creating the table:"
   ]
  },
  {
   "cell_type": "code",
   "execution_count": 6,
   "id": "4c816d92",
   "metadata": {},
   "outputs": [],
   "source": [
    "cur.execute('''create table yassir(\n",
    "id number not null unique,\n",
    "empno number unique ,\n",
    "first_name varchar2(50) not null,\n",
    "last_name varchar2 (50),\n",
    "age number,\n",
    "gender varchar2 (1))''')"
   ]
  },
  {
   "cell_type": "markdown",
   "id": "9848528d",
   "metadata": {},
   "source": [
    "## If we want to check the new table, we can open sqldeveloper and check it,now let's insert rows:"
   ]
  },
  {
   "cell_type": "code",
   "execution_count": 7,
   "id": "793efab1",
   "metadata": {},
   "outputs": [],
   "source": [
    "cur.execute('''insert into yassir(id,empno,first_name,last_name,age,gender) values(1,101,'Yassir','Daoud',34,'M')''')"
   ]
  },
  {
   "cell_type": "markdown",
   "id": "22887e08",
   "metadata": {},
   "source": [
    "## To commit the added row:"
   ]
  },
  {
   "cell_type": "code",
   "execution_count": 8,
   "id": "9236c72c",
   "metadata": {},
   "outputs": [],
   "source": [
    "connect.commit()"
   ]
  },
  {
   "cell_type": "markdown",
   "id": "88e92dfa",
   "metadata": {},
   "source": [
    "## If we want to update the row such as age:"
   ]
  },
  {
   "cell_type": "code",
   "execution_count": 10,
   "id": "8eed1caa",
   "metadata": {},
   "outputs": [],
   "source": [
    "cur.execute('''update yassir set age=25 where id=1''')"
   ]
  },
  {
   "cell_type": "markdown",
   "id": "cb3c0010",
   "metadata": {},
   "source": [
    "## Any update or insert we should commit the changes:"
   ]
  },
  {
   "cell_type": "code",
   "execution_count": 11,
   "id": "31aec86b",
   "metadata": {},
   "outputs": [],
   "source": [
    "connect.commit()"
   ]
  },
  {
   "cell_type": "markdown",
   "id": "2f7944ef",
   "metadata": {},
   "source": [
    "## Now let's add more rows to the table:"
   ]
  },
  {
   "cell_type": "code",
   "execution_count": 12,
   "id": "835a7f38",
   "metadata": {},
   "outputs": [],
   "source": [
    "cur.execute('''insert into yassir(id,empno,first_name,last_name,age,gender) values(2,102,'Uday','Daoud',39,'M')''')\n",
    "cur.execute('''insert into yassir(id,empno,first_name,last_name,age,gender) values(3,103,'Usama','Daoud',42,'M')''')\n",
    "cur.execute('''insert into yassir(id,empno,first_name,last_name,age,gender) values(4,104,'Daoud','Mukhtar',56,'M')''')\n",
    "cur.execute('''insert into yassir(id,empno,first_name,last_name,age,gender) values(5,105,'Waddah','Almudhaffar',34,'M')''')\n",
    "cur.execute('''insert into yassir(id,empno,first_name,last_name,age,gender) values(6,106,'Nawar','Albadran',34,'M')''')\n",
    "cur.execute('''insert into yassir(id,empno,first_name,last_name,age,gender) values(7,107,'Haider','Ali',37,'M')''')"
   ]
  },
  {
   "cell_type": "markdown",
   "id": "889833c6",
   "metadata": {},
   "source": [
    "## Now we should commit the changes:"
   ]
  },
  {
   "cell_type": "code",
   "execution_count": 13,
   "id": "aa766637",
   "metadata": {},
   "outputs": [],
   "source": [
    "connect.commit()"
   ]
  },
  {
   "cell_type": "markdown",
   "id": "cd71b4d6",
   "metadata": {},
   "source": [
    "## If we want to display one row only:"
   ]
  },
  {
   "cell_type": "code",
   "execution_count": 15,
   "id": "2385ceee",
   "metadata": {},
   "outputs": [
    {
     "name": "stdout",
     "output_type": "stream",
     "text": [
      "(1, 101, 'Yassir', 'Daoud', 25, 'M')\n"
     ]
    }
   ],
   "source": [
    "cur.execute('''select * from yassir''')\n",
    "row=cur.fetchone()\n",
    "print(row)"
   ]
  },
  {
   "cell_type": "markdown",
   "id": "0d436fb2",
   "metadata": {},
   "source": [
    "## If we want to display all the rows with the use of fetchone command:"
   ]
  },
  {
   "cell_type": "code",
   "execution_count": 16,
   "id": "f8078cb9",
   "metadata": {},
   "outputs": [
    {
     "name": "stdout",
     "output_type": "stream",
     "text": [
      "(1, 101, 'Yassir', 'Daoud', 25, 'M')\n",
      "(2, 102, 'Uday', 'Daoud', 39, 'M')\n",
      "(3, 103, 'Usama', 'Daoud', 42, 'M')\n",
      "(4, 104, 'Daoud', 'Mukhtar', 56, 'M')\n",
      "(5, 105, 'Waddah', 'Almudhaffar', 34, 'M')\n",
      "(6, 106, 'Nawar', 'Albadran', 34, 'M')\n",
      "(7, 107, 'Haider', 'Ali', 37, 'M')\n"
     ]
    }
   ],
   "source": [
    "cur.execute('''select * from yassir''')\n",
    "while True:\n",
    "    row=cur.fetchone()\n",
    "    if row is None:\n",
    "        break\n",
    "    print(row)"
   ]
  },
  {
   "cell_type": "markdown",
   "id": "23694fd8",
   "metadata": {},
   "source": [
    "## Also we can use fetchnamy command to get rows:"
   ]
  },
  {
   "cell_type": "code",
   "execution_count": 17,
   "id": "f262b8f7",
   "metadata": {},
   "outputs": [
    {
     "name": "stdout",
     "output_type": "stream",
     "text": [
      "[(1, 101, 'Yassir', 'Daoud', 25, 'M'), (2, 102, 'Uday', 'Daoud', 39, 'M'), (3, 103, 'Usama', 'Daoud', 42, 'M')]\n"
     ]
    }
   ],
   "source": [
    "cur.execute('''select * from yassir''')\n",
    "row=cur.fetchmany(3)\n",
    "print(row)"
   ]
  },
  {
   "cell_type": "markdown",
   "id": "b4a38a21",
   "metadata": {},
   "source": [
    "## If we want to fetch all rows:"
   ]
  },
  {
   "cell_type": "code",
   "execution_count": 18,
   "id": "3737db44",
   "metadata": {},
   "outputs": [
    {
     "name": "stdout",
     "output_type": "stream",
     "text": [
      "[(1, 101, 'Yassir', 'Daoud', 25, 'M'), (2, 102, 'Uday', 'Daoud', 39, 'M'), (3, 103, 'Usama', 'Daoud', 42, 'M'), (4, 104, 'Daoud', 'Mukhtar', 56, 'M'), (5, 105, 'Waddah', 'Almudhaffar', 34, 'M'), (6, 106, 'Nawar', 'Albadran', 34, 'M'), (7, 107, 'Haider', 'Ali', 37, 'M')]\n"
     ]
    }
   ],
   "source": [
    "cur.execute('''select * from yassir''')\n",
    "row=cur.fetchall()\n",
    "print(row)"
   ]
  },
  {
   "cell_type": "markdown",
   "id": "e1df2d1b",
   "metadata": {},
   "source": [
    "## If we want to fetch one reading only, here we should specify the row and column,for example we just need the first name from the first row:"
   ]
  },
  {
   "cell_type": "code",
   "execution_count": 20,
   "id": "d8785ba1",
   "metadata": {},
   "outputs": [
    {
     "name": "stdout",
     "output_type": "stream",
     "text": [
      "Yassir\n"
     ]
    }
   ],
   "source": [
    "cur.execute('''select * from yassir''')\n",
    "row=cur.fetchall()\n",
    "print(row[0][2])"
   ]
  },
  {
   "cell_type": "markdown",
   "id": "5e530f7b",
   "metadata": {},
   "source": [
    "## If we want to specify a variable:"
   ]
  },
  {
   "cell_type": "code",
   "execution_count": 23,
   "id": "b1462648",
   "metadata": {},
   "outputs": [],
   "source": [
    "cur.prepare(\"\"\"select * from yassir where first_name=:firstname\"\"\")"
   ]
  },
  {
   "cell_type": "code",
   "execution_count": 24,
   "id": "5e043973",
   "metadata": {},
   "outputs": [
    {
     "name": "stdout",
     "output_type": "stream",
     "text": [
      "[(1, 101, 'Yassir', 'Daoud', 25, 'M')]\n"
     ]
    }
   ],
   "source": [
    "cur.execute(None,firstname=\"Yassir\")\n",
    "row=cur.fetchall()\n",
    "print(row)"
   ]
  },
  {
   "cell_type": "markdown",
   "id": "220744d9",
   "metadata": {},
   "source": [
    "## If we want to insert Multi rows in a single command, first we make a variable list contains rows:"
   ]
  },
  {
   "cell_type": "code",
   "execution_count": 25,
   "id": "126fa51c",
   "metadata": {},
   "outputs": [],
   "source": [
    "multiinsert=[(8,108,'Wafa','Qahtan',31,'F'),(9,109,'Hussein','Naser',39,'M'),(10,110,'Nahid','Ali',35,'F')]"
   ]
  },
  {
   "cell_type": "markdown",
   "id": "477ec775",
   "metadata": {},
   "source": [
    "## Now we execute the insert:"
   ]
  },
  {
   "cell_type": "code",
   "execution_count": 26,
   "id": "f4c5ad66",
   "metadata": {},
   "outputs": [],
   "source": [
    "cur.executemany('''insert into yassir(id,empno,first_name,last_name,age,gender) values (:1,:2,:3,:4,:5,:6)''',multiinsert)"
   ]
  },
  {
   "cell_type": "markdown",
   "id": "4f8ca0fc",
   "metadata": {},
   "source": [
    "## Now we commit the changes:"
   ]
  },
  {
   "cell_type": "code",
   "execution_count": 28,
   "id": "11f746a7",
   "metadata": {},
   "outputs": [],
   "source": [
    "connect.commit()"
   ]
  },
  {
   "cell_type": "markdown",
   "id": "662c3ba1",
   "metadata": {},
   "source": [
    "## If we want to get the error due to the column or table contraints like unique or not null error (first we add consraint to first_name column to be fn_unique via sqldeveloper) then we create variable contains several rows:"
   ]
  },
  {
   "cell_type": "code",
   "execution_count": 38,
   "id": "d1f971e8",
   "metadata": {},
   "outputs": [],
   "source": [
    "insert_rows=[(13,113,'Akram','Kamil',22,'M'),(12,112,'Nahid','muqdad',29,'F')]"
   ]
  },
  {
   "cell_type": "code",
   "execution_count": 39,
   "id": "b6e8e5f6",
   "metadata": {},
   "outputs": [],
   "source": [
    "cur.executemany('''insert into yassir(id,empno,first_name,last_name,age,gender) values (:1,:2,:3,:4,:5,:6)''',\n",
    "                insert_rows,batcherrors=True)"
   ]
  },
  {
   "cell_type": "markdown",
   "id": "16e1ab7b",
   "metadata": {},
   "source": [
    "## To get the batch errors:"
   ]
  },
  {
   "cell_type": "code",
   "execution_count": 40,
   "id": "4d3b58fa",
   "metadata": {},
   "outputs": [
    {
     "name": "stdout",
     "output_type": "stream",
     "text": [
      "Error in nserting  ORA-00001: unique constraint (PLEARNER.FN_UNIQUE) violated\n"
     ]
    }
   ],
   "source": [
    "for error in cur.getbatcherrors():\n",
    "    print('Error in nserting ',error.message.strip())"
   ]
  },
  {
   "cell_type": "markdown",
   "id": "240a5a30",
   "metadata": {},
   "source": [
    "## But we dont know which row is having the error, for that:"
   ]
  },
  {
   "cell_type": "code",
   "execution_count": 41,
   "id": "0de43a1e",
   "metadata": {},
   "outputs": [
    {
     "name": "stdout",
     "output_type": "stream",
     "text": [
      "Error in nserting  ORA-00001: unique constraint (PLEARNER.FN_UNIQUE) violated at row 1\n"
     ]
    }
   ],
   "source": [
    "for error in cur.getbatcherrors():\n",
    "    print('Error in nserting ',error.message.strip(),'at row',error.offset)"
   ]
  },
  {
   "cell_type": "markdown",
   "id": "dc0f99b1",
   "metadata": {},
   "source": [
    "## To commit the changes,here only one row will be added:"
   ]
  },
  {
   "cell_type": "code",
   "execution_count": 42,
   "id": "b2e55121",
   "metadata": {},
   "outputs": [],
   "source": [
    "connect.commit()"
   ]
  }
 ],
 "metadata": {
  "kernelspec": {
   "display_name": "Python 3 (ipykernel)",
   "language": "python",
   "name": "python3"
  },
  "language_info": {
   "codemirror_mode": {
    "name": "ipython",
    "version": 3
   },
   "file_extension": ".py",
   "mimetype": "text/x-python",
   "name": "python",
   "nbconvert_exporter": "python",
   "pygments_lexer": "ipython3",
   "version": "3.9.13"
  }
 },
 "nbformat": 4,
 "nbformat_minor": 5
}
