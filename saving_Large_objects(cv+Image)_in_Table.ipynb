{
 "cells": [
  {
   "cell_type": "markdown",
   "id": "c3ed3fe8",
   "metadata": {},
   "source": [
    "## Importing the library and user info text:"
   ]
  },
  {
   "cell_type": "code",
   "execution_count": 1,
   "id": "51e99203",
   "metadata": {},
   "outputs": [],
   "source": [
    "import cx_Oracle\n",
    "import oracledbconnect as dbconnect"
   ]
  },
  {
   "cell_type": "markdown",
   "id": "5a9a99b8",
   "metadata": {},
   "source": [
    "## Connecting SQL with Jupyter Notebook:"
   ]
  },
  {
   "cell_type": "code",
   "execution_count": 2,
   "id": "2487c8c6",
   "metadata": {},
   "outputs": [],
   "source": [
    "connect=cx_Oracle.connect(dbconnect.user,dbconnect.password,dbconnect.dns)"
   ]
  },
  {
   "cell_type": "markdown",
   "id": "66d94ab7",
   "metadata": {},
   "source": [
    "## Making cursor for doing further operations:"
   ]
  },
  {
   "cell_type": "code",
   "execution_count": 3,
   "id": "6c922402",
   "metadata": {},
   "outputs": [],
   "source": [
    "cur=connect.cursor()"
   ]
  },
  {
   "cell_type": "markdown",
   "id": "ac82d750",
   "metadata": {},
   "source": [
    "## Now, let's create table include cv and image columns:"
   ]
  },
  {
   "cell_type": "code",
   "execution_count": 4,
   "id": "fcc29fb6",
   "metadata": {},
   "outputs": [],
   "source": [
    "cur.execute('''create table yassir2(\n",
    "id number unique not null,\n",
    "empno number unique not null,\n",
    "first_name varchar2(20),\n",
    "last_name varchar2(20),\n",
    "age number,\n",
    "gender varchar2(1),\n",
    "cv clob,\n",
    "emp_image blob)''') "
   ]
  },
  {
   "cell_type": "markdown",
   "id": "ff5483cd",
   "metadata": {},
   "source": [
    "## Now let's open the cv file:"
   ]
  },
  {
   "cell_type": "code",
   "execution_count": 5,
   "id": "9f991047",
   "metadata": {},
   "outputs": [],
   "source": [
    "emp_cv=open(r'E:\\from pen drive\\yassir_cv.txt')"
   ]
  },
  {
   "cell_type": "markdown",
   "id": "0ad41122",
   "metadata": {},
   "source": [
    "## For reading the cv file:"
   ]
  },
  {
   "cell_type": "code",
   "execution_count": 6,
   "id": "548427f9",
   "metadata": {},
   "outputs": [
    {
     "name": "stdout",
     "output_type": "stream",
     "text": [
      "   Yassir Daoud Mukhtar\n",
      "\n",
      "\n",
      "Email: \t\n",
      "\n",
      "ydmd88@yahoo.com\n",
      "\n",
      "Full address:\n",
      "\n",
      " H. No.7-door Al-Dhubbad –Basrah-ALBASRAH-Iraq.\n",
      "\n",
      "PERSONAL  DATA :\n",
      "\n",
      "\n",
      "Gender      : Male.\n",
      "\n",
      " \n",
      "NATIONALITY : Iraqi.\n",
      "\n",
      "FATHER’S NAME: Daoud\n",
      "\n",
      "job          :database analyst\n",
      "\n",
      "\n"
     ]
    }
   ],
   "source": [
    "emp_read_cv=emp_cv.read()\n",
    "print(emp_read_cv)"
   ]
  },
  {
   "cell_type": "markdown",
   "id": "29265ba7",
   "metadata": {},
   "source": [
    "## Now let's insert row including cv file:"
   ]
  },
  {
   "cell_type": "code",
   "execution_count": 8,
   "id": "18889129",
   "metadata": {},
   "outputs": [],
   "source": [
    "cur.execute('''insert into yassir2(id,empno,first_name,last_name,age,gender,cv)\n",
    "values(:id,:empno,:first_name,:last_name,:age,:gender,:cv)''',\n",
    "            id=1,empno=100,first_name='Yassir',last_name='Daoud',age=34,gender='M',cv=emp_read_cv)"
   ]
  },
  {
   "cell_type": "markdown",
   "id": "9a37ba16",
   "metadata": {},
   "source": [
    "## Now let's display the row:"
   ]
  },
  {
   "cell_type": "code",
   "execution_count": 9,
   "id": "1156d493",
   "metadata": {},
   "outputs": [
    {
     "name": "stdout",
     "output_type": "stream",
     "text": [
      "(1, 100, 'Yassir', 'Daoud', 34, 'M', <cx_Oracle.LOB object at 0x000001F479DE7C60>, None)\n"
     ]
    }
   ],
   "source": [
    "cur.execute('''select * from yassir2''')\n",
    "row=cur.fetchone()\n",
    "print(row)"
   ]
  },
  {
   "cell_type": "markdown",
   "id": "bbe615a6",
   "metadata": {},
   "source": [
    "## To display cv in sqldeveloper first we commit the changes then we go there and right click on the cv column in the employee row then choose single record view :"
   ]
  },
  {
   "cell_type": "code",
   "execution_count": 10,
   "id": "c1e2e90c",
   "metadata": {},
   "outputs": [],
   "source": [
    "connect.commit()"
   ]
  },
  {
   "cell_type": "markdown",
   "id": "12553163",
   "metadata": {},
   "source": [
    "## Now let's open and read image:"
   ]
  },
  {
   "cell_type": "code",
   "execution_count": 12,
   "id": "9ca84133",
   "metadata": {},
   "outputs": [],
   "source": [
    "emp_image=open('E:\\\\from pen drive\\\\personal_image1.jpg','rb')\n",
    "emp_image_lob=emp_image.read()"
   ]
  },
  {
   "cell_type": "markdown",
   "id": "9d4eee8b",
   "metadata": {},
   "source": [
    "## Now let's insert another row including cv and image:"
   ]
  },
  {
   "cell_type": "code",
   "execution_count": 14,
   "id": "c7acfe90",
   "metadata": {},
   "outputs": [],
   "source": [
    "cur.setinputsizes(emp_image=cx_Oracle.BLOB)\n",
    "cur.execute('''insert into yassir2(id,empno,first_name,last_name,age,gender,cv,emp_image)\n",
    "            values(:id,:empno,:first_name,:last_name,:age,:gender,:cv,:emp_image)''',\n",
    "            id=2,empno=101,first_name='Yassir',last_name='Daoud',age=34,gender='M',cv=emp_read_cv,emp_image=emp_image_lob)"
   ]
  },
  {
   "cell_type": "markdown",
   "id": "6d593a15",
   "metadata": {},
   "source": [
    "## Now let's commit the inserted row then go to sqldeveloper to display cv and image:"
   ]
  },
  {
   "cell_type": "code",
   "execution_count": 15,
   "id": "b015b9fb",
   "metadata": {},
   "outputs": [],
   "source": [
    "connect.commit()"
   ]
  }
 ],
 "metadata": {
  "kernelspec": {
   "display_name": "Python 3 (ipykernel)",
   "language": "python",
   "name": "python3"
  },
  "language_info": {
   "codemirror_mode": {
    "name": "ipython",
    "version": 3
   },
   "file_extension": ".py",
   "mimetype": "text/x-python",
   "name": "python",
   "nbconvert_exporter": "python",
   "pygments_lexer": "ipython3",
   "version": "3.9.13"
  }
 },
 "nbformat": 4,
 "nbformat_minor": 5
}
