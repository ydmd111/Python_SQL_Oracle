{
 "cells": [
  {
   "cell_type": "markdown",
   "id": "80d85766",
   "metadata": {},
   "source": [
    "## Importing the Oracle Library:"
   ]
  },
  {
   "cell_type": "code",
   "execution_count": 1,
   "id": "ed561232",
   "metadata": {},
   "outputs": [],
   "source": [
    "import cx_Oracle"
   ]
  },
  {
   "cell_type": "markdown",
   "id": "36704658",
   "metadata": {},
   "source": [
    "## After creating the user via SQLDEVELOPER, now we insert the username,password,dns:"
   ]
  },
  {
   "cell_type": "code",
   "execution_count": 2,
   "id": "d6fa142f",
   "metadata": {},
   "outputs": [],
   "source": [
    "dbconnect=cx_Oracle.connect('plearner','plearner','localhost:1521/ORCLPDB')"
   ]
  },
  {
   "cell_type": "markdown",
   "id": "e80136d0",
   "metadata": {},
   "source": [
    "## We are seccessfully loged in, now let's check the database version:"
   ]
  },
  {
   "cell_type": "code",
   "execution_count": 3,
   "id": "ef453f9f",
   "metadata": {},
   "outputs": [
    {
     "name": "stdout",
     "output_type": "stream",
     "text": [
      "Database Version  19.3.0.0.0\n"
     ]
    }
   ],
   "source": [
    "print('Database Version ',dbconnect.version)"
   ]
  },
  {
   "cell_type": "markdown",
   "id": "a15460a5",
   "metadata": {},
   "source": [
    "## If we want to close connection:"
   ]
  },
  {
   "cell_type": "code",
   "execution_count": 4,
   "id": "cb7be69e",
   "metadata": {},
   "outputs": [],
   "source": [
    "dbconnect.close()"
   ]
  },
  {
   "cell_type": "markdown",
   "id": "c16b58cf",
   "metadata": {},
   "source": [
    "## If we dont want the username and password to be visible,in this case we write the information in txt file and save it at the same location that the anaconda navigator installed,when we want to login, here we should import the txt name:"
   ]
  },
  {
   "cell_type": "code",
   "execution_count": 5,
   "id": "4137567f",
   "metadata": {},
   "outputs": [],
   "source": [
    "import oracledbconnect as dbconnect"
   ]
  },
  {
   "cell_type": "code",
   "execution_count": 6,
   "id": "75c42f99",
   "metadata": {},
   "outputs": [],
   "source": [
    "connect=cx_Oracle.connect(dbconnect.user,dbconnect.password,dbconnect.dns)"
   ]
  },
  {
   "cell_type": "markdown",
   "id": "8c4af080",
   "metadata": {},
   "source": [
    "## Now again let's check the database version:"
   ]
  },
  {
   "cell_type": "code",
   "execution_count": 7,
   "id": "e6a4b810",
   "metadata": {},
   "outputs": [
    {
     "data": {
      "text/plain": [
       "'19.3.0.0.0'"
      ]
     },
     "execution_count": 7,
     "metadata": {},
     "output_type": "execute_result"
    }
   ],
   "source": [
    "connect.version"
   ]
  },
  {
   "cell_type": "markdown",
   "id": "1d52bd8b",
   "metadata": {},
   "source": [
    "## To close the connection:"
   ]
  },
  {
   "cell_type": "code",
   "execution_count": 8,
   "id": "b0ae37f0",
   "metadata": {},
   "outputs": [],
   "source": [
    "connect.close()"
   ]
  },
  {
   "cell_type": "markdown",
   "id": "a19934d5",
   "metadata": {},
   "source": [
    "## If we want to create the connection pool:"
   ]
  },
  {
   "cell_type": "code",
   "execution_count": 9,
   "id": "bf3aa8ca",
   "metadata": {},
   "outputs": [],
   "source": [
    "mypool=cx_Oracle.SessionPool(dbconnect.user,dbconnect.password,dbconnect.dns,min=5,max=15,increment=1)"
   ]
  },
  {
   "cell_type": "markdown",
   "id": "a13e5a78",
   "metadata": {},
   "source": [
    "## If we want to use one of these connections:"
   ]
  },
  {
   "cell_type": "code",
   "execution_count": 10,
   "id": "2b40acea",
   "metadata": {},
   "outputs": [],
   "source": [
    "connect=mypool.acquire()"
   ]
  },
  {
   "cell_type": "markdown",
   "id": "f752ea75",
   "metadata": {},
   "source": [
    "## If we want to close the connection pool,first we should release all the connections:"
   ]
  },
  {
   "cell_type": "code",
   "execution_count": 11,
   "id": "30df42c4",
   "metadata": {},
   "outputs": [],
   "source": [
    "mypool.release(connect)"
   ]
  },
  {
   "cell_type": "markdown",
   "id": "91685249",
   "metadata": {},
   "source": [
    "## Then we close the mypool:"
   ]
  },
  {
   "cell_type": "code",
   "execution_count": 12,
   "id": "41e19447",
   "metadata": {},
   "outputs": [],
   "source": [
    "mypool.close()"
   ]
  }
 ],
 "metadata": {
  "kernelspec": {
   "display_name": "Python 3 (ipykernel)",
   "language": "python",
   "name": "python3"
  },
  "language_info": {
   "codemirror_mode": {
    "name": "ipython",
    "version": 3
   },
   "file_extension": ".py",
   "mimetype": "text/x-python",
   "name": "python",
   "nbconvert_exporter": "python",
   "pygments_lexer": "ipython3",
   "version": "3.9.13"
  }
 },
 "nbformat": 4,
 "nbformat_minor": 5
}
