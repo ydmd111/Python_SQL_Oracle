{
 "cells": [
  {
   "cell_type": "markdown",
   "id": "ce1cc69c",
   "metadata": {},
   "source": [
    "## Importing the necessary libraries:"
   ]
  },
  {
   "cell_type": "code",
   "execution_count": 1,
   "id": "e0cd4de3",
   "metadata": {},
   "outputs": [],
   "source": [
    "import tkinter as tk\n",
    "from tkinter import ttk\n",
    "from tkinter.ttk import *\n",
    "import cx_Oracle \n",
    "import oracledbconnect as dbconnect"
   ]
  },
  {
   "cell_type": "markdown",
   "id": "6c2a48d4",
   "metadata": {},
   "source": [
    "## To connect with database:"
   ]
  },
  {
   "cell_type": "code",
   "execution_count": 2,
   "id": "3fb79d93",
   "metadata": {},
   "outputs": [],
   "source": [
    "connect=cx_Oracle.connect(dbconnect.user,dbconnect.password,dbconnect.dns)"
   ]
  },
  {
   "cell_type": "markdown",
   "id": "10601986",
   "metadata": {},
   "source": [
    "## Now it's the time to create cursor:"
   ]
  },
  {
   "cell_type": "code",
   "execution_count": 3,
   "id": "d89648fe",
   "metadata": {},
   "outputs": [],
   "source": [
    "cur=connect.cursor()"
   ]
  },
  {
   "cell_type": "markdown",
   "id": "d65de2d2",
   "metadata": {},
   "source": [
    "## Let's create tabs, labels and entries with their buttons:"
   ]
  },
  {
   "cell_type": "code",
   "execution_count": 4,
   "id": "de1da20e",
   "metadata": {},
   "outputs": [],
   "source": [
    "window=tk.Tk()\n",
    "window.geometry('1000x500')\n",
    "window.title('Yassir')\n",
    "tabControl=ttk.Notebook(window)\n",
    "\n",
    "tab1=ttk.Frame(tabControl)\n",
    "tab2=ttk.Frame(tabControl)\n",
    "tab3=ttk.Frame(tabControl)\n",
    "\n",
    "tabControl.add(tab1,text='Already Registered')\n",
    "tabControl.add(tab2,text='New Registration')\n",
    "tabControl.add(tab3,text='Products')\n",
    "\n",
    "labelframe=tk.LabelFrame(tab1,text='Please enter the registered ID:')\n",
    "labelframe.grid(row=1,column=1)\n",
    "\n",
    "tk.Label(labelframe,text='Name').grid(row=1,column=0,sticky='E')\n",
    "first_name1=tk.Entry(labelframe,width=50)\n",
    "first_name1.grid(row=1,column=1)\n",
    "\n",
    "tk.Label(labelframe,text='     ').grid(row=1,column=2)\n",
    "\n",
    "tk.Label(labelframe,text='Surname').grid(row=1,column=3,sticky='E')\n",
    "surname1=tk.Entry(labelframe,width=50)\n",
    "surname1.grid(row=1,column=4)\n",
    "\n",
    "tk.Label(labelframe,text='Total_price').grid(row=2,column=0,sticky='E')\n",
    "total_price1=tk.Entry(labelframe,width=50)\n",
    "total_price1.grid(row=2,column=1)\n",
    "\n",
    "tk.Label(tab1,text='     ').grid(row=2,column=2)\n",
    "\n",
    "\n",
    "tk.Label(labelframe,text='Bought Item').grid(row=3,column=0,sticky='W')\n",
    "bought_item1=tk.Entry(labelframe,width=50)\n",
    "bought_item1.grid(row=3,column=1)\n",
    "\n",
    "tk.Label(labelframe,text='Mobile_No').grid(row=2,column=3,sticky='E')\n",
    "mobile_no1=tk.Entry(labelframe,width=50)\n",
    "mobile_no1.grid(row=2,column=4,pady=5,sticky='E')\n",
    "\n",
    "labelframe2=ttk.LabelFrame(tab2,text='Please enter the new registration info:')\n",
    "labelframe2.grid(row=1,column=0)\n",
    "\n",
    "tk.Label(labelframe2,text='Name').grid(row=2,column=0)\n",
    "f_name2=tk.Entry(labelframe2,width=50)\n",
    "f_name2.grid(row=2,column=1)\n",
    "\n",
    "tk.Label(labelframe2,text='     ').grid(row=2,column=2)\n",
    "\n",
    "tk.Label(labelframe2,text='Surname').grid(row=2,column=3)\n",
    "surname2=tk.Entry(labelframe2,width=50)\n",
    "surname2.grid(row=2,column=4)\n",
    "\n",
    "tk.Label(labelframe2,text='Phone_No').grid(row=3,column=0)\n",
    "mobile_no2=tk.Entry(labelframe2,width=50)\n",
    "mobile_no2.grid(row=3,column=1)\n",
    "\n",
    "tk.Label(labelframe2,text='     ').grid(row=3,column=2)\n",
    "\n",
    "tk.Label(labelframe2,text='Local_Address').grid(row=3,column=3)\n",
    "local_add2=tk.Entry(labelframe2,width=50)\n",
    "local_add2.grid(row=3,column=4)\n",
    "\n",
    "tk.Label(labelframe2,text='     ').grid(row=3,column=2)\n",
    "\n",
    "tk.Label(labelframe2,text='Bought_Item').grid(row=6,column=0,sticky='E')\n",
    "item2=tk.Entry(labelframe2,width=50)\n",
    "item2.grid(row=6,column=1)\n",
    "\n",
    "tk.Label(labelframe2,text='     ').grid(row=6,column=2)\n",
    "\n",
    "tk.Label(labelframe2,text='Total_price').grid(row=6,column=3)\n",
    "total_price2=tk.Entry(labelframe2,width=50)\n",
    "total_price2.grid(row=6,column=4)\n",
    "\n",
    "labelframe3=ttk.LabelFrame(tab3,text='Please enter the Item_Name')\n",
    "labelframe3.grid(row=1,column=0)\n",
    "\n",
    "tk.Label(labelframe3,text='Name').grid(row=2,column=0)\n",
    "product3=tk.Entry(labelframe3,width=50)\n",
    "product3.grid(row=2,column=1)\n",
    "\n",
    "tabControl.grid()"
   ]
  },
  {
   "cell_type": "markdown",
   "id": "66a76dfd",
   "metadata": {},
   "source": [
    "## Now it's the time to create function to insert info for the person and the purchased data:"
   ]
  },
  {
   "cell_type": "code",
   "execution_count": 5,
   "id": "980c7c80",
   "metadata": {},
   "outputs": [],
   "source": [
    "def members():\n",
    "    try:\n",
    "        cur.execute('''insert into members(first_name,surname,total_price,bought_item,mobile_no)\n",
    "        values(:first_name,:surname,:total_price,:bought_item,:mobile_no)''',\n",
    "                    {'first_name':first_name1.get(),'surname':surname1.get(),'total_price':total_price1.get(),\n",
    "                    'bought_item':bought_item1.get(),'mobile_no':mobile_no1.get()})\n",
    "    except cx_Oracle.DatabaseError:\n",
    "        label2=tk.Label(tab1,text=('Error While inserting Data'))\n",
    "        label2.grid(row=10,column=1)\n",
    "            \n",
    "    else:\n",
    "        label2=tk.Label(tab1,text='Data has been inserted Successfully!')\n",
    "        label2.grid(row=10,column=1)\n",
    "        connect.commit()"
   ]
  },
  {
   "cell_type": "markdown",
   "id": "f49c1f4b",
   "metadata": {},
   "source": [
    "## Now let's create Button to execute the inserting function:"
   ]
  },
  {
   "cell_type": "code",
   "execution_count": 6,
   "id": "69bbcb1d",
   "metadata": {},
   "outputs": [],
   "source": [
    "button=tk.Button(labelframe,text='Submit',fg='blue',bg='white',command=members)\n",
    "button.grid(row=4,column=2)"
   ]
  },
  {
   "cell_type": "markdown",
   "id": "461deaf2",
   "metadata": {},
   "source": [
    "## Now let's create function to insert info for the new members:"
   ]
  },
  {
   "cell_type": "code",
   "execution_count": 7,
   "id": "8fe6179e",
   "metadata": {},
   "outputs": [],
   "source": [
    "def new_members():\n",
    "    try:\n",
    "        cur.execute('''insert into new_members(first_name,surname,mobile_no,address,total_price,bought_item)\n",
    "        values(:first_name,:surname,:mobile_no,:address,:total_price,:bought_item)''',\n",
    "                {'first_name':f_name2.get(),'surname':surname2.get(),'mobile_no':mobile_no2.get(),'address':local_add2.get(),\n",
    "                 'total_price':total_price2.get(),'bought_item':item2.get()})\n",
    "    except cx_Oracle.DatabaseError:\n",
    "        label2=tk.Label(tab2,text=('Error While inserting Data'))\n",
    "        label2.grid(row=10,column=0)\n",
    "        connect.commit()\n",
    "    else:\n",
    "        label2=tk.Label(tab2,text='Data has been inserted Successfully!')\n",
    "        label2.grid(row=10,column=0)\n",
    "        connect.commit()"
   ]
  },
  {
   "cell_type": "markdown",
   "id": "859684b4",
   "metadata": {},
   "source": [
    "## Let's create Button to insert the new members registration:"
   ]
  },
  {
   "cell_type": "code",
   "execution_count": 8,
   "id": "d0f242b7",
   "metadata": {},
   "outputs": [],
   "source": [
    "button2=tk.Button(labelframe2,text='Add',fg='blue',bg='white',command=new_members)\n",
    "button2.grid(row=9,column=2)"
   ]
  },
  {
   "cell_type": "markdown",
   "id": "2412634f",
   "metadata": {},
   "source": [
    "## Now let's create another function to enter the product name:"
   ]
  },
  {
   "cell_type": "code",
   "execution_count": 9,
   "id": "fd89ec83",
   "metadata": {},
   "outputs": [],
   "source": [
    "def readfromdatabase():\n",
    "    cur.prepare('''select Product_name,Manufactured_company,Quality,City,Province,Country from products2 where product_name=:name''')\n",
    "    cur.execute(None,name=product3.get())\n",
    "    chosen_name=cur.fetchall()\n",
    "    if cur.fetchall()==0:\n",
    "        return 0\n",
    "    else:\n",
    "        return chosen_name"
   ]
  },
  {
   "cell_type": "markdown",
   "id": "e42a87af",
   "metadata": {},
   "source": [
    "## Now let's create function to display info about the product name we wrote it in above functon:"
   ]
  },
  {
   "cell_type": "code",
   "execution_count": 10,
   "id": "f5350fcd",
   "metadata": {},
   "outputs": [],
   "source": [
    "def showallrecords():\n",
    "    data=readfromdatabase()\n",
    "    labelframe31=ttk.LabelFrame(tab3,text='Validation_Error')\n",
    "    labelframe31.grid_forget()\n",
    "    labelframe31.grid(row=2,column=1)\n",
    "    if not product3.get():\n",
    "        tk.Label(labelframe31,text=f'Product name is required!').grid(row=3,column=2)\n",
    "    if data==0:\n",
    "        tk.Label(labelframe31,text='Invalid Product!').grid(row=3,column=2)\n",
    "        \n",
    "    if product3.get() and data!=0:\n",
    "        tk.Label(tab3,text='Product_name#   '+'    |  '+'   Manufactured_company'+'   |  '+'Quality#'+'   |   '+\n",
    "                 'City'+'   |   '+'Province#'+'   |   '+'Country#').grid(column=0,row=4)\n",
    "        for index, dat in enumerate(data):\n",
    "            try:\n",
    "                tk.Label(tab3,text=dat[0]+'                  |              '+dat[1]+'                      |   '+dat[2]+'      |   '+dat[3]+'   |   '+str(dat[4])+\n",
    "                     '   |   '+dat[5]).grid(row=index+6,column=0)\n",
    "            except:\n",
    "                tk.Label(tab3,text='Exception').grid(row=6,column=0)"
   ]
  },
  {
   "cell_type": "markdown",
   "id": "cc5ae9bf",
   "metadata": {},
   "source": [
    "## Now let's make Button to display the product info"
   ]
  },
  {
   "cell_type": "code",
   "execution_count": 11,
   "id": "004f45ae",
   "metadata": {},
   "outputs": [],
   "source": [
    "enqbt=tk.Button(labelframe3,text='Enquire',command=showallrecords)\n",
    "enqbt.grid(row=2,column=2)"
   ]
  },
  {
   "cell_type": "markdown",
   "id": "f2faf87b",
   "metadata": {},
   "source": [
    "## Now it's the time to the app window:"
   ]
  },
  {
   "cell_type": "code",
   "execution_count": 12,
   "id": "9f3ee14b",
   "metadata": {},
   "outputs": [],
   "source": [
    "window.mainloop()"
   ]
  }
 ],
 "metadata": {
  "kernelspec": {
   "display_name": "Python 3 (ipykernel)",
   "language": "python",
   "name": "python3"
  },
  "language_info": {
   "codemirror_mode": {
    "name": "ipython",
    "version": 3
   },
   "file_extension": ".py",
   "mimetype": "text/x-python",
   "name": "python",
   "nbconvert_exporter": "python",
   "pygments_lexer": "ipython3",
   "version": "3.9.13"
  }
 },
 "nbformat": 4,
 "nbformat_minor": 5
}
